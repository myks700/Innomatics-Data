{
 "cells": [
  {
   "cell_type": "code",
   "execution_count": 1,
   "metadata": {},
   "outputs": [],
   "source": [
    "import pandas as pd\n",
    "import matplotlib.pyplot as plt\n",
    "import seaborn as sns\n",
    "import numpy as np\n"
   ]
  },
  {
   "cell_type": "code",
   "execution_count": 2,
   "metadata": {},
   "outputs": [
    {
     "data": {
      "text/html": [
       "<div>\n",
       "<style scoped>\n",
       "    .dataframe tbody tr th:only-of-type {\n",
       "        vertical-align: middle;\n",
       "    }\n",
       "\n",
       "    .dataframe tbody tr th {\n",
       "        vertical-align: top;\n",
       "    }\n",
       "\n",
       "    .dataframe thead th {\n",
       "        text-align: right;\n",
       "    }\n",
       "</style>\n",
       "<table border=\"1\" class=\"dataframe\">\n",
       "  <thead>\n",
       "    <tr style=\"text-align: right;\">\n",
       "      <th></th>\n",
       "      <th>x1</th>\n",
       "      <th>x2</th>\n",
       "      <th>y</th>\n",
       "    </tr>\n",
       "  </thead>\n",
       "  <tbody>\n",
       "    <tr>\n",
       "      <th>0</th>\n",
       "      <td>-119.366669</td>\n",
       "      <td>115.000000</td>\n",
       "      <td>1</td>\n",
       "    </tr>\n",
       "    <tr>\n",
       "      <th>1</th>\n",
       "      <td>-101.108044</td>\n",
       "      <td>97.777159</td>\n",
       "      <td>1</td>\n",
       "    </tr>\n",
       "    <tr>\n",
       "      <th>2</th>\n",
       "      <td>-130.278658</td>\n",
       "      <td>106.767654</td>\n",
       "      <td>1</td>\n",
       "    </tr>\n",
       "    <tr>\n",
       "      <th>3</th>\n",
       "      <td>-114.703415</td>\n",
       "      <td>101.195477</td>\n",
       "      <td>1</td>\n",
       "    </tr>\n",
       "    <tr>\n",
       "      <th>4</th>\n",
       "      <td>-119.366669</td>\n",
       "      <td>115.000000</td>\n",
       "      <td>1</td>\n",
       "    </tr>\n",
       "  </tbody>\n",
       "</table>\n",
       "</div>"
      ],
      "text/plain": [
       "           x1          x2  y\n",
       "0 -119.366669  115.000000  1\n",
       "1 -101.108044   97.777159  1\n",
       "2 -130.278658  106.767654  1\n",
       "3 -114.703415  101.195477  1\n",
       "4 -119.366669  115.000000  1"
      ]
     },
     "execution_count": 2,
     "metadata": {},
     "output_type": "execute_result"
    }
   ],
   "source": [
    "data = pd.read_csv(\"data.csv\")\n",
    "data.head()"
   ]
  },
  {
   "cell_type": "code",
   "execution_count": 3,
   "metadata": {},
   "outputs": [
    {
     "data": {
      "text/plain": [
       "(2227, 3)"
      ]
     },
     "execution_count": 3,
     "metadata": {},
     "output_type": "execute_result"
    }
   ],
   "source": [
    "data.shape"
   ]
  },
  {
   "cell_type": "code",
   "execution_count": 4,
   "metadata": {},
   "outputs": [
    {
     "data": {
      "text/html": [
       "<div>\n",
       "<style scoped>\n",
       "    .dataframe tbody tr th:only-of-type {\n",
       "        vertical-align: middle;\n",
       "    }\n",
       "\n",
       "    .dataframe tbody tr th {\n",
       "        vertical-align: top;\n",
       "    }\n",
       "\n",
       "    .dataframe thead th {\n",
       "        text-align: right;\n",
       "    }\n",
       "</style>\n",
       "<table border=\"1\" class=\"dataframe\">\n",
       "  <thead>\n",
       "    <tr style=\"text-align: right;\">\n",
       "      <th></th>\n",
       "      <th>x1</th>\n",
       "      <th>x2</th>\n",
       "      <th>y</th>\n",
       "    </tr>\n",
       "  </thead>\n",
       "  <tbody>\n",
       "    <tr>\n",
       "      <th>count</th>\n",
       "      <td>2222.000000</td>\n",
       "      <td>2.224000e+03</td>\n",
       "      <td>2227.000000</td>\n",
       "    </tr>\n",
       "    <tr>\n",
       "      <th>mean</th>\n",
       "      <td>-4.818766</td>\n",
       "      <td>8.947626e+04</td>\n",
       "      <td>0.442299</td>\n",
       "    </tr>\n",
       "    <tr>\n",
       "      <th>std</th>\n",
       "      <td>74.939909</td>\n",
       "      <td>2.983323e+06</td>\n",
       "      <td>0.496771</td>\n",
       "    </tr>\n",
       "    <tr>\n",
       "      <th>min</th>\n",
       "      <td>-134.369160</td>\n",
       "      <td>-1.348761e+02</td>\n",
       "      <td>0.000000</td>\n",
       "    </tr>\n",
       "    <tr>\n",
       "      <th>25%</th>\n",
       "      <td>-71.757030</td>\n",
       "      <td>-8.012983e+01</td>\n",
       "      <td>0.000000</td>\n",
       "    </tr>\n",
       "    <tr>\n",
       "      <th>50%</th>\n",
       "      <td>-9.836555</td>\n",
       "      <td>-1.046151e+00</td>\n",
       "      <td>0.000000</td>\n",
       "    </tr>\n",
       "    <tr>\n",
       "      <th>75%</th>\n",
       "      <td>59.813962</td>\n",
       "      <td>6.389086e+01</td>\n",
       "      <td>1.000000</td>\n",
       "    </tr>\n",
       "    <tr>\n",
       "      <th>max</th>\n",
       "      <td>134.508687</td>\n",
       "      <td>1.000000e+08</td>\n",
       "      <td>1.000000</td>\n",
       "    </tr>\n",
       "  </tbody>\n",
       "</table>\n",
       "</div>"
      ],
      "text/plain": [
       "                x1            x2            y\n",
       "count  2222.000000  2.224000e+03  2227.000000\n",
       "mean     -4.818766  8.947626e+04     0.442299\n",
       "std      74.939909  2.983323e+06     0.496771\n",
       "min    -134.369160 -1.348761e+02     0.000000\n",
       "25%     -71.757030 -8.012983e+01     0.000000\n",
       "50%      -9.836555 -1.046151e+00     0.000000\n",
       "75%      59.813962  6.389086e+01     1.000000\n",
       "max     134.508687  1.000000e+08     1.000000"
      ]
     },
     "execution_count": 4,
     "metadata": {},
     "output_type": "execute_result"
    }
   ],
   "source": [
    "data.describe()"
   ]
  },
  {
   "cell_type": "code",
   "execution_count": 5,
   "metadata": {},
   "outputs": [
    {
     "data": {
      "text/plain": [
       "x1    5\n",
       "x2    3\n",
       "y     0\n",
       "dtype: int64"
      ]
     },
     "execution_count": 5,
     "metadata": {},
     "output_type": "execute_result"
    }
   ],
   "source": [
    "data.isnull().sum()"
   ]
  },
  {
   "cell_type": "code",
   "execution_count": 6,
   "metadata": {},
   "outputs": [],
   "source": [
    "data[\"x1\"].fillna(data[\"x1\"].median(), inplace = True)\n",
    "data[\"x2\"].fillna(data[\"x2\"].median(), inplace = True)"
   ]
  },
  {
   "cell_type": "code",
   "execution_count": 7,
   "metadata": {},
   "outputs": [
    {
     "data": {
      "text/plain": [
       "x1    0\n",
       "x2    0\n",
       "y     0\n",
       "dtype: int64"
      ]
     },
     "execution_count": 7,
     "metadata": {},
     "output_type": "execute_result"
    }
   ],
   "source": [
    "data.isnull().sum()"
   ]
  },
  {
   "cell_type": "code",
   "execution_count": 8,
   "metadata": {},
   "outputs": [
    {
     "name": "stdout",
     "output_type": "stream",
     "text": [
      "x1\n",
      "0.07306866687422345\n"
     ]
    },
    {
     "name": "stderr",
     "output_type": "stream",
     "text": [
      "C:\\Users\\myks7\\anaconda3\\lib\\site-packages\\seaborn\\distributions.py:2551: FutureWarning: `distplot` is a deprecated function and will be removed in a future version. Please adapt your code to use either `displot` (a figure-level function with similar flexibility) or `histplot` (an axes-level function for histograms).\n",
      "  warnings.warn(msg, FutureWarning)\n"
     ]
    },
    {
     "data": {
      "image/png": "[encoded data removed]",
      "text/plain": [
       "<Figure size 432x288 with 1 Axes>"
      ]
     },
     "metadata": {
      "needs_background": "light"
     },
     "output_type": "display_data"
    },
    {
     "name": "stdout",
     "output_type": "stream",
     "text": [
      "x2\n",
      "33.325419149860345\n"
     ]
    },
    {
     "name": "stderr",
     "output_type": "stream",
     "text": [
      "C:\\Users\\myks7\\anaconda3\\lib\\site-packages\\seaborn\\distributions.py:2551: FutureWarning: `distplot` is a deprecated function and will be removed in a future version. Please adapt your code to use either `displot` (a figure-level function with similar flexibility) or `histplot` (an axes-level function for histograms).\n",
      "  warnings.warn(msg, FutureWarning)\n"
     ]
    },
    {
     "data": {
      "image/png": "[encoded data removed]",
      "text/plain": [
       "<Figure size 432x288 with 1 Axes>"
      ]
     },
     "metadata": {
      "needs_background": "light"
     },
     "output_type": "display_data"
    },
    {
     "name": "stdout",
     "output_type": "stream",
     "text": [
      "y\n",
      "0.23235617048787108\n"
     ]
    },
    {
     "name": "stderr",
     "output_type": "stream",
     "text": [
      "C:\\Users\\myks7\\anaconda3\\lib\\site-packages\\seaborn\\distributions.py:2551: FutureWarning: `distplot` is a deprecated function and will be removed in a future version. Please adapt your code to use either `displot` (a figure-level function with similar flexibility) or `histplot` (an axes-level function for histograms).\n",
      "  warnings.warn(msg, FutureWarning)\n"
     ]
    },
    {
     "data": {
      "image/png": "[encoded data removed]",
      "text/plain": [
       "<Figure size 432x288 with 1 Axes>"
      ]
     },
     "metadata": {
      "needs_background": "light"
     },
     "output_type": "display_data"
    }
   ],
   "source": [
    "from scipy.stats import skew\n",
    "\n",
    "for col in data:\n",
    "    print(col)\n",
    "    print(skew(data[col]))\n",
    "    \n",
    "    plt.figure()\n",
    "    sns.distplot(data[col])\n",
    "    plt.show()"
   ]
  },
  {
   "cell_type": "code",
   "execution_count": 9,
   "metadata": {},
   "outputs": [
    {
     "name": "stdout",
     "output_type": "stream",
     "text": [
      "Column name is x1 and skewness is 0.07306866687422345\n",
      "Column name is x2 and skewness is 33.325419149860345\n",
      "Column name is y and skewness is 0.23235617048787108\n"
     ]
    }
   ],
   "source": [
    "for col in data:\n",
    "    print(\"Column name is\", col, \"and skewness is\", skew(data[col]))"
   ]
  },
  {
   "cell_type": "code",
   "execution_count": 10,
   "metadata": {},
   "outputs": [
    {
     "data": {
      "image/png": "[encoded data removed]",
      "text/plain": [
       "<Figure size 360x360 with 2 Axes>"
      ]
     },
     "metadata": {
      "needs_background": "light"
     },
     "output_type": "display_data"
    }
   ],
   "source": [
    "plt.figure(figsize = (5,5))\n",
    "mask = np.array(data.corr())\n",
    "mask[np.tril_indices_from(mask)]=False\n",
    "sns.heatmap(data.corr(), mask = mask, annot =True)\n",
    "plt.show()"
   ]
  },
  {
   "cell_type": "code",
   "execution_count": 11,
   "metadata": {},
   "outputs": [
    {
     "name": "stderr",
     "output_type": "stream",
     "text": [
      "C:\\Users\\myks7\\anaconda3\\lib\\site-packages\\seaborn\\_decorators.py:36: FutureWarning: Pass the following variable as a keyword arg: x. From version 0.12, the only valid positional argument will be `data`, and passing other arguments without an explicit keyword will result in an error or misinterpretation.\n",
      "  warnings.warn(\n",
      "C:\\Users\\myks7\\anaconda3\\lib\\site-packages\\seaborn\\_decorators.py:36: FutureWarning: Pass the following variable as a keyword arg: x. From version 0.12, the only valid positional argument will be `data`, and passing other arguments without an explicit keyword will result in an error or misinterpretation.\n",
      "  warnings.warn(\n",
      "C:\\Users\\myks7\\anaconda3\\lib\\site-packages\\seaborn\\_decorators.py:36: FutureWarning: Pass the following variable as a keyword arg: x. From version 0.12, the only valid positional argument will be `data`, and passing other arguments without an explicit keyword will result in an error or misinterpretation.\n",
      "  warnings.warn(\n"
     ]
    },
    {
     "data": {
      "image/png": "[encoded data removed]",
      "text/plain": [
       "<Figure size 432x288 with 1 Axes>"
      ]
     },
     "metadata": {
      "needs_background": "light"
     },
     "output_type": "display_data"
    },
    {
     "data": {
      "image/png": "[encoded data removed]",
      "text/plain": [
       "<Figure size 360x216 with 1 Axes>"
      ]
     },
     "metadata": {
      "needs_background": "light"
     },
     "output_type": "display_data"
    },
    {
     "data": {
      "image/png": "[encoded data removed]",
      "text/plain": [
       "<Figure size 360x216 with 1 Axes>"
      ]
     },
     "metadata": {
      "needs_background": "light"
     },
     "output_type": "display_data"
    },
    {
     "data": {
      "text/plain": [
       "<Figure size 360x216 with 0 Axes>"
      ]
     },
     "metadata": {},
     "output_type": "display_data"
    }
   ],
   "source": [
    "for feature in data:\n",
    "    data=data.copy()\n",
    "    sns.boxplot(data[feature])\n",
    "    plt.title(feature)\n",
    "    plt.figure(figsize=(5,3))"
   ]
  },
  {
   "cell_type": "code",
   "execution_count": 12,
   "metadata": {},
   "outputs": [],
   "source": [
    "numerical = data.drop([\"y\"], axis = 1)"
   ]
  },
  {
   "cell_type": "code",
   "execution_count": 13,
   "metadata": {},
   "outputs": [
    {
     "data": {
      "text/html": [
       "<div>\n",
       "<style scoped>\n",
       "    .dataframe tbody tr th:only-of-type {\n",
       "        vertical-align: middle;\n",
       "    }\n",
       "\n",
       "    .dataframe tbody tr th {\n",
       "        vertical-align: top;\n",
       "    }\n",
       "\n",
       "    .dataframe thead th {\n",
       "        text-align: right;\n",
       "    }\n",
       "</style>\n",
       "<table border=\"1\" class=\"dataframe\">\n",
       "  <thead>\n",
       "    <tr style=\"text-align: right;\">\n",
       "      <th></th>\n",
       "      <th>x1</th>\n",
       "      <th>x2</th>\n",
       "    </tr>\n",
       "  </thead>\n",
       "  <tbody>\n",
       "    <tr>\n",
       "      <th>0</th>\n",
       "      <td>-119.366669</td>\n",
       "      <td>115.000000</td>\n",
       "    </tr>\n",
       "    <tr>\n",
       "      <th>1</th>\n",
       "      <td>-101.108044</td>\n",
       "      <td>97.777159</td>\n",
       "    </tr>\n",
       "    <tr>\n",
       "      <th>2</th>\n",
       "      <td>-130.278658</td>\n",
       "      <td>106.767654</td>\n",
       "    </tr>\n",
       "    <tr>\n",
       "      <th>3</th>\n",
       "      <td>-114.703415</td>\n",
       "      <td>101.195477</td>\n",
       "    </tr>\n",
       "    <tr>\n",
       "      <th>4</th>\n",
       "      <td>-119.366669</td>\n",
       "      <td>115.000000</td>\n",
       "    </tr>\n",
       "  </tbody>\n",
       "</table>\n",
       "</div>"
      ],
      "text/plain": [
       "           x1          x2\n",
       "0 -119.366669  115.000000\n",
       "1 -101.108044   97.777159\n",
       "2 -130.278658  106.767654\n",
       "3 -114.703415  101.195477\n",
       "4 -119.366669  115.000000"
      ]
     },
     "execution_count": 13,
     "metadata": {},
     "output_type": "execute_result"
    }
   ],
   "source": [
    "numerical.head()"
   ]
  },
  {
   "cell_type": "code",
   "execution_count": 14,
   "metadata": {},
   "outputs": [
    {
     "name": "stdout",
     "output_type": "stream",
     "text": [
      "There are 3 numerical variables\n",
      "\n",
      "The numerical variables are : ['x1', 'x2', 'y']\n"
     ]
    }
   ],
   "source": [
    "# find numerical variables\n",
    "\n",
    "numerical = [var for var in data.columns if data[var].dtype!='O']\n",
    "\n",
    "print('There are {} numerical variables\\n'.format(len(numerical)))\n",
    "\n",
    "print('The numerical variables are :', numerical)"
   ]
  },
  {
   "cell_type": "code",
   "execution_count": 15,
   "metadata": {},
   "outputs": [
    {
     "data": {
      "text/plain": [
       "['x1', 'x2', 'y']"
      ]
     },
     "execution_count": 15,
     "metadata": {},
     "output_type": "execute_result"
    }
   ],
   "source": [
    "numerical"
   ]
  },
  {
   "cell_type": "code",
   "execution_count": 16,
   "metadata": {},
   "outputs": [
    {
     "name": "stdout",
     "output_type": "stream",
     "text": [
      "           x1          x2       y\n",
      "count  2227.0      2227.0  2227.0\n",
      "mean     -5.0     89356.0     0.0\n",
      "std      75.0   2981313.0     0.0\n",
      "min    -134.0      -135.0     0.0\n",
      "25%     -72.0       -80.0     0.0\n",
      "50%     -10.0        -1.0     0.0\n",
      "75%      60.0        64.0     1.0\n",
      "max     135.0  99999999.0     1.0 2\n"
     ]
    }
   ],
   "source": [
    "# view summary statistics in numerical variables\n",
    "\n",
    "print(round(data[numerical].describe()),2)"
   ]
  },
  {
   "cell_type": "code",
   "execution_count": 17,
   "metadata": {},
   "outputs": [
    {
     "name": "stdout",
     "output_type": "stream",
     "text": [
      "Rainfall outliers are values < -465.22580457999993 or > 453.27768320999996\n"
     ]
    }
   ],
   "source": [
    "IQR = data.x1.quantile(0.75) - data.x1.quantile(0.25)\n",
    "Lower_fence = data.x1.quantile(0.25) - (IQR * 3)\n",
    "Upper_fence = data.x1.quantile(0.75) + (IQR * 3)\n",
    "print('Rainfall outliers are values < {lowerboundary} or > {upperboundary}'.format(lowerboundary=Lower_fence, upperboundary=Upper_fence))"
   ]
  },
  {
   "cell_type": "code",
   "execution_count": 18,
   "metadata": {},
   "outputs": [
    {
     "name": "stdout",
     "output_type": "stream",
     "text": [
      "Rainfall outliers are values < -502.76166262000004 or > 490.81354125000007\n"
     ]
    }
   ],
   "source": [
    "IQR = data.x2.quantile(0.75) - data.x2.quantile(0.25)\n",
    "Lower_fence = data.x1.quantile(0.25) - (IQR * 3)\n",
    "Upper_fence = data.x1.quantile(0.75) + (IQR * 3)\n",
    "print('Rainfall outliers are values < {lowerboundary} or > {upperboundary}'.format(lowerboundary=Lower_fence, upperboundary=Upper_fence))"
   ]
  },
  {
   "cell_type": "markdown",
   "metadata": {},
   "source": [
    "### Split data into training and testing"
   ]
  },
  {
   "cell_type": "code",
   "execution_count": 19,
   "metadata": {},
   "outputs": [],
   "source": [
    "X = data.drop(['y'], axis=1)\n",
    "\n",
    "y = data['y']"
   ]
  },
  {
   "cell_type": "code",
   "execution_count": 20,
   "metadata": {},
   "outputs": [],
   "source": [
    "# split X and y into training and testing sets\n",
    "\n",
    "from sklearn.model_selection import train_test_split\n",
    "\n",
    "X_train, X_test, y_train, y_test = train_test_split(X, y, test_size = 0.3, random_state = 0)"
   ]
  },
  {
   "cell_type": "code",
   "execution_count": 21,
   "metadata": {},
   "outputs": [
    {
     "data": {
      "text/plain": [
       "((1558, 2), (669, 2))"
      ]
     },
     "execution_count": 21,
     "metadata": {},
     "output_type": "execute_result"
    }
   ],
   "source": [
    "X_train.shape, X_test.shape"
   ]
  },
  {
   "cell_type": "markdown",
   "metadata": {},
   "source": [
    "#### Removing outliers"
   ]
  },
  {
   "cell_type": "code",
   "execution_count": 22,
   "metadata": {},
   "outputs": [
    {
     "name": "stderr",
     "output_type": "stream",
     "text": [
      "<ipython-input-22-483c0ed6aecd>:5: SettingWithCopyWarning: \n",
      "A value is trying to be set on a copy of a slice from a DataFrame.\n",
      "Try using .loc[row_indexer,col_indexer] = value instead\n",
      "\n",
      "See the caveats in the documentation: https://pandas.pydata.org/pandas-docs/stable/user_guide/indexing.html#returning-a-view-versus-a-copy\n",
      "  df3['x1'] = max_value(df3, 'x1', 454.52)\n",
      "<ipython-input-22-483c0ed6aecd>:6: SettingWithCopyWarning: \n",
      "A value is trying to be set on a copy of a slice from a DataFrame.\n",
      "Try using .loc[row_indexer,col_indexer] = value instead\n",
      "\n",
      "See the caveats in the documentation: https://pandas.pydata.org/pandas-docs/stable/user_guide/indexing.html#returning-a-view-versus-a-copy\n",
      "  df3['x2'] = max_value(df3, 'x2',495.95)\n",
      "<ipython-input-22-483c0ed6aecd>:5: SettingWithCopyWarning: \n",
      "A value is trying to be set on a copy of a slice from a DataFrame.\n",
      "Try using .loc[row_indexer,col_indexer] = value instead\n",
      "\n",
      "See the caveats in the documentation: https://pandas.pydata.org/pandas-docs/stable/user_guide/indexing.html#returning-a-view-versus-a-copy\n",
      "  df3['x1'] = max_value(df3, 'x1', 454.52)\n",
      "<ipython-input-22-483c0ed6aecd>:6: SettingWithCopyWarning: \n",
      "A value is trying to be set on a copy of a slice from a DataFrame.\n",
      "Try using .loc[row_indexer,col_indexer] = value instead\n",
      "\n",
      "See the caveats in the documentation: https://pandas.pydata.org/pandas-docs/stable/user_guide/indexing.html#returning-a-view-versus-a-copy\n",
      "  df3['x2'] = max_value(df3, 'x2',495.95)\n"
     ]
    }
   ],
   "source": [
    "def max_value(df3, variable, top):\n",
    "    return np.where(df3[variable]>top, top, df3[variable])\n",
    "\n",
    "for df3 in [X_train, X_test]:\n",
    "    df3['x1'] = max_value(df3, 'x1', 454.52)\n",
    "    df3['x2'] = max_value(df3, 'x2',495.95)"
   ]
  },
  {
   "cell_type": "code",
   "execution_count": null,
   "metadata": {},
   "outputs": [],
   "source": []
  },
  {
   "cell_type": "code",
   "execution_count": 23,
   "metadata": {},
   "outputs": [
    {
     "data": {
      "text/plain": [
       "(495.95, 134.9297479)"
      ]
     },
     "execution_count": 23,
     "metadata": {},
     "output_type": "execute_result"
    }
   ],
   "source": [
    "X_train.x2.max(), X_test.x2.max()"
   ]
  },
  {
   "cell_type": "code",
   "execution_count": 24,
   "metadata": {},
   "outputs": [
    {
     "data": {
      "text/plain": [
       "(134.5086874, 134.17796040000002)"
      ]
     },
     "execution_count": 24,
     "metadata": {},
     "output_type": "execute_result"
    }
   ],
   "source": [
    "X_train.x1.max(), X_test.x1.max()"
   ]
  },
  {
   "cell_type": "code",
   "execution_count": null,
   "metadata": {},
   "outputs": [],
   "source": []
  },
  {
   "cell_type": "code",
   "execution_count": null,
   "metadata": {},
   "outputs": [],
   "source": []
  },
  {
   "cell_type": "code",
   "execution_count": null,
   "metadata": {},
   "outputs": [],
   "source": []
  },
  {
   "cell_type": "markdown",
   "metadata": {},
   "source": [
    "### Feature Scaling"
   ]
  },
  {
   "cell_type": "code",
   "execution_count": 25,
   "metadata": {},
   "outputs": [
    {
     "data": {
      "text/html": [
       "<div>\n",
       "<style scoped>\n",
       "    .dataframe tbody tr th:only-of-type {\n",
       "        vertical-align: middle;\n",
       "    }\n",
       "\n",
       "    .dataframe tbody tr th {\n",
       "        vertical-align: top;\n",
       "    }\n",
       "\n",
       "    .dataframe thead th {\n",
       "        text-align: right;\n",
       "    }\n",
       "</style>\n",
       "<table border=\"1\" class=\"dataframe\">\n",
       "  <thead>\n",
       "    <tr style=\"text-align: right;\">\n",
       "      <th></th>\n",
       "      <th>x1</th>\n",
       "      <th>x2</th>\n",
       "    </tr>\n",
       "  </thead>\n",
       "  <tbody>\n",
       "    <tr>\n",
       "      <th>1642</th>\n",
       "      <td>-53.319005</td>\n",
       "      <td>-86.905002</td>\n",
       "    </tr>\n",
       "    <tr>\n",
       "      <th>1976</th>\n",
       "      <td>98.633331</td>\n",
       "      <td>79.000000</td>\n",
       "    </tr>\n",
       "    <tr>\n",
       "      <th>1926</th>\n",
       "      <td>100.633331</td>\n",
       "      <td>110.000000</td>\n",
       "    </tr>\n",
       "    <tr>\n",
       "      <th>1340</th>\n",
       "      <td>42.633331</td>\n",
       "      <td>35.000000</td>\n",
       "    </tr>\n",
       "    <tr>\n",
       "      <th>712</th>\n",
       "      <td>-86.706787</td>\n",
       "      <td>93.667242</td>\n",
       "    </tr>\n",
       "  </tbody>\n",
       "</table>\n",
       "</div>"
      ],
      "text/plain": [
       "              x1          x2\n",
       "1642  -53.319005  -86.905002\n",
       "1976   98.633331   79.000000\n",
       "1926  100.633331  110.000000\n",
       "1340   42.633331   35.000000\n",
       "712   -86.706787   93.667242"
      ]
     },
     "execution_count": 25,
     "metadata": {},
     "output_type": "execute_result"
    }
   ],
   "source": [
    "X_train = pd.DataFrame(X_train)\n",
    "X_train.head()"
   ]
  },
  {
   "cell_type": "code",
   "execution_count": 26,
   "metadata": {},
   "outputs": [],
   "source": [
    "\n",
    "cols = X_train.columns"
   ]
  },
  {
   "cell_type": "code",
   "execution_count": null,
   "metadata": {},
   "outputs": [],
   "source": []
  },
  {
   "cell_type": "code",
   "execution_count": 27,
   "metadata": {},
   "outputs": [],
   "source": [
    "from sklearn.preprocessing import MinMaxScaler\n",
    "\n",
    "scaler = MinMaxScaler()\n",
    "\n",
    "X_train = scaler.fit_transform(X_train)\n",
    "\n",
    "X_test = scaler.transform(X_test)"
   ]
  },
  {
   "cell_type": "code",
   "execution_count": 28,
   "metadata": {},
   "outputs": [],
   "source": [
    "X_train = pd.DataFrame(X_train, columns=[cols])"
   ]
  },
  {
   "cell_type": "code",
   "execution_count": 29,
   "metadata": {},
   "outputs": [],
   "source": [
    "X_test = pd.DataFrame(X_test, columns=[cols])"
   ]
  },
  {
   "cell_type": "markdown",
   "metadata": {},
   "source": [
    "### Logistic Regression"
   ]
  },
  {
   "cell_type": "code",
   "execution_count": 30,
   "metadata": {},
   "outputs": [
    {
     "data": {
      "text/plain": [
       "LogisticRegression(random_state=0, solver='liblinear')"
      ]
     },
     "execution_count": 30,
     "metadata": {},
     "output_type": "execute_result"
    }
   ],
   "source": [
    "\n",
    "# train a logistic regression model on the training set\n",
    "from sklearn.linear_model import LogisticRegression\n",
    "\n",
    "\n",
    "# instantiate the model\n",
    "logreg = LogisticRegression(solver='liblinear', random_state=0)\n",
    "\n",
    "\n",
    "# fit the model\n",
    "logreg.fit(X_train, y_train)"
   ]
  },
  {
   "cell_type": "markdown",
   "metadata": {},
   "source": [
    "#### Predict results"
   ]
  },
  {
   "cell_type": "code",
   "execution_count": 32,
   "metadata": {},
   "outputs": [
    {
     "data": {
      "text/plain": [
       "array([0, 0, 0, 1, 0, 1, 0, 0, 0, 0, 0, 0, 0, 0, 0, 0, 0, 1, 0, 1, 0, 0,\n",
       "       0, 0, 0, 0, 0, 0, 0, 0, 0, 0, 1, 1, 0, 0, 1, 0, 0, 1, 0, 0, 0, 1,\n",
       "       1, 0, 0, 0, 0, 0, 0, 1, 0, 1, 0, 1, 0, 0, 0, 0, 0, 0, 0, 0, 0, 0,\n",
       "       0, 0, 0, 1, 0, 0, 0, 0, 0, 0, 0, 0, 0, 0, 0, 1, 1, 1, 0, 1, 0, 1,\n",
       "       1, 0, 0, 0, 0, 1, 0, 0, 0, 1, 0, 1, 0, 0, 0, 0, 1, 0, 1, 0, 0, 0,\n",
       "       0, 0, 1, 1, 0, 0, 1, 0, 0, 0, 0, 0, 0, 0, 0, 0, 0, 0, 0, 0, 1, 0,\n",
       "       0, 0, 0, 0, 0, 0, 1, 0, 0, 0, 0, 0, 0, 0, 0, 0, 0, 1, 0, 0, 1, 0,\n",
       "       0, 0, 0, 1, 0, 0, 1, 0, 0, 0, 0, 0, 0, 0, 0, 1, 0, 0, 0, 0, 0, 1,\n",
       "       0, 0, 1, 0, 0, 0, 0, 0, 0, 0, 0, 0, 0, 0, 1, 0, 0, 0, 0, 0, 0, 0,\n",
       "       0, 1, 0, 0, 0, 1, 0, 0, 0, 1, 0, 1, 0, 0, 0, 0, 0, 1, 0, 0, 0, 1,\n",
       "       0, 0, 0, 1, 1, 0, 0, 1, 0, 1, 0, 0, 0, 0, 0, 0, 0, 0, 0, 1, 0, 0,\n",
       "       0, 0, 0, 0, 0, 0, 0, 0, 0, 0, 0, 1, 0, 1, 0, 0, 0, 0, 0, 0, 0, 1,\n",
       "       0, 0, 0, 0, 0, 0, 0, 1, 0, 0, 0, 1, 0, 0, 0, 0, 0, 0, 0, 0, 0, 0,\n",
       "       1, 1, 0, 0, 1, 1, 0, 0, 0, 0, 0, 0, 0, 1, 0, 0, 0, 0, 1, 0, 0, 0,\n",
       "       0, 1, 0, 0, 0, 0, 0, 0, 0, 0, 1, 0, 0, 0, 0, 1, 0, 0, 0, 1, 0, 0,\n",
       "       0, 0, 1, 1, 1, 0, 0, 0, 0, 0, 0, 0, 0, 1, 0, 0, 0, 0, 1, 0, 0, 0,\n",
       "       1, 0, 0, 1, 0, 0, 0, 1, 0, 0, 1, 0, 0, 0, 0, 0, 0, 0, 0, 1, 0, 0,\n",
       "       0, 0, 0, 0, 0, 1, 0, 0, 0, 0, 0, 0, 0, 0, 0, 0, 1, 0, 0, 1, 0, 0,\n",
       "       0, 0, 0, 0, 0, 0, 0, 1, 0, 0, 0, 0, 0, 1, 0, 0, 0, 1, 0, 0, 0, 0,\n",
       "       1, 0, 0, 0, 1, 0, 1, 0, 0, 1, 0, 0, 0, 0, 0, 0, 1, 0, 0, 0, 0, 0,\n",
       "       0, 1, 1, 1, 0, 1, 0, 0, 0, 0, 0, 1, 0, 1, 0, 0, 1, 0, 0, 0, 0, 0,\n",
       "       1, 0, 0, 0, 0, 0, 0, 0, 0, 1, 0, 1, 0, 0, 1, 0, 0, 1, 0, 0, 0, 0,\n",
       "       0, 0, 0, 0, 0, 1, 0, 0, 0, 0, 0, 0, 0, 0, 0, 0, 0, 0, 1, 0, 0, 0,\n",
       "       0, 0, 0, 0, 0, 0, 1, 0, 0, 0, 0, 0, 0, 0, 0, 0, 0, 1, 0, 0, 0, 0,\n",
       "       0, 0, 1, 0, 0, 0, 0, 0, 0, 1, 0, 0, 0, 0, 0, 0, 0, 1, 1, 0, 0, 0,\n",
       "       0, 1, 1, 0, 0, 0, 1, 0, 1, 1, 1, 1, 0, 0, 0, 0, 0, 0, 0, 1, 0, 1,\n",
       "       0, 0, 0, 0, 0, 0, 0, 0, 0, 0, 0, 0, 0, 0, 0, 1, 0, 1, 0, 0, 0, 0,\n",
       "       0, 0, 1, 0, 0, 1, 0, 1, 0, 1, 0, 0, 0, 1, 0, 0, 0, 1, 0, 0, 0, 0,\n",
       "       1, 1, 1, 1, 0, 0, 0, 1, 1, 0, 0, 0, 1, 0, 0, 0, 0, 0, 0, 0, 0, 0,\n",
       "       0, 0, 0, 0, 1, 0, 0, 0, 1, 0, 1, 0, 1, 0, 0, 0, 0, 0, 0, 0, 0, 0,\n",
       "       1, 0, 0, 0, 0, 0, 1, 0, 0], dtype=int64)"
      ]
     },
     "execution_count": 32,
     "metadata": {},
     "output_type": "execute_result"
    }
   ],
   "source": [
    "\n",
    "y_pred_test = logreg.predict(X_test)\n",
    "\n",
    "y_pred_test"
   ]
  },
  {
   "cell_type": "code",
   "execution_count": 33,
   "metadata": {},
   "outputs": [
    {
     "data": {
      "text/plain": [
       "array([0.56099177, 0.62204417, 0.58173986, 0.49684959, 0.54616947,\n",
       "       0.42461694, 0.61600251, 0.53538171, 0.59237863, 0.54077762,\n",
       "       0.53183263, 0.62209744, 0.70728812, 0.62581471, 0.6624311 ,\n",
       "       0.50890867, 0.51269567, 0.44260762, 0.55963138, 0.4989734 ,\n",
       "       0.57930048, 0.50136807, 0.51816542, 0.60249281, 0.56262534,\n",
       "       0.55048379, 0.59955225, 0.59456392, 0.5544019 , 0.62880383,\n",
       "       0.63806089, 0.64561442, 0.39925481, 0.44081162, 0.68415281,\n",
       "       0.51302154, 0.46527429, 0.62378837, 0.50758863, 0.47843857,\n",
       "       0.64631711, 0.52238409, 0.52036149, 0.44028532, 0.46209464,\n",
       "       0.51800418, 0.52456282, 0.50902464, 0.59052798, 0.60118921,\n",
       "       0.5609176 , 0.45707153, 0.58884267, 0.45732475, 0.65467935,\n",
       "       0.47907648, 0.57877425, 0.66518283, 0.65998936, 0.58864139,\n",
       "       0.55254782, 0.64556789, 0.52979847, 0.65077063, 0.5030411 ,\n",
       "       0.54287674, 0.52400076, 0.58607654, 0.52414994, 0.42573322,\n",
       "       0.69192863, 0.50323251, 0.54013585, 0.53366385, 0.59720367,\n",
       "       0.59612288, 0.63541002, 0.52522504, 0.53038218, 0.55874434,\n",
       "       0.54977865, 0.47501747, 0.49036837, 0.45792973, 0.60169255,\n",
       "       0.47568521, 0.59253758, 0.45804653, 0.48933898, 0.6321105 ,\n",
       "       0.57854618, 0.66580963, 0.59171271, 0.43236949, 0.53243735,\n",
       "       0.58139841, 0.58823658, 0.45914113, 0.55482152, 0.43369416,\n",
       "       0.53722839, 0.56018528, 0.56849773, 0.70572656, 0.42825469,\n",
       "       0.51780955, 0.46688745, 0.63462718, 0.59178104, 0.63538995,\n",
       "       0.60449728, 0.51230354, 0.49139369, 0.40503809, 0.57571036,\n",
       "       0.56705887, 0.41062384, 0.51781298, 0.70098257, 0.59125438,\n",
       "       0.6330217 , 0.62629279, 0.57435684, 0.59699343, 0.51013045,\n",
       "       0.53710664, 0.58892258, 0.62733639, 0.60657017, 0.55938229,\n",
       "       0.49986193, 0.57171632, 0.58438733, 0.61908686, 0.59075527,\n",
       "       0.53243472, 0.55528962, 0.52288927, 0.44397458, 0.6807668 ,\n",
       "       0.62006368, 0.53328264, 0.56952653, 0.55068798, 0.55413612,\n",
       "       0.56927086, 0.59391031, 0.60491223, 0.50060715, 0.41120756,\n",
       "       0.50079254, 0.67077142, 0.43117944, 0.55704389, 0.61192145,\n",
       "       0.54729035, 0.58288397, 0.4897843 , 0.55178578, 0.59252994,\n",
       "       0.47121648, 0.54180299, 0.5962879 , 0.69287378, 0.66269279,\n",
       "       0.55559689, 0.59707675, 0.53414876, 0.67654368, 0.4359633 ,\n",
       "       0.50189764, 0.59214317, 0.70226997, 0.60832643, 0.53780544,\n",
       "       0.4970172 , 0.55811536, 0.5533282 , 0.49289381, 0.54311828,\n",
       "       0.6193391 , 0.55804719, 0.70832166, 0.60108898, 0.60134083,\n",
       "       0.57807837, 0.65870636, 0.60828733, 0.58201595, 0.68523101,\n",
       "       0.45416696, 0.55762572, 0.57452703, 0.5851377 , 0.63786624,\n",
       "       0.61860716, 0.64048426, 0.53926765, 0.62699635, 0.47728328,\n",
       "       0.66412897, 0.64014875, 0.51394919, 0.41917984, 0.67735178,\n",
       "       0.52147356, 0.51588225, 0.43162748, 0.55990992, 0.42252423,\n",
       "       0.60130417, 0.55477452, 0.64882398, 0.58965446, 0.53699701,\n",
       "       0.435383  , 0.65275542, 0.510803  , 0.60427416, 0.44801709,\n",
       "       0.59985279, 0.57804365, 0.64402849, 0.42502964, 0.45161603,\n",
       "       0.56218533, 0.60606448, 0.44384164, 0.50110407, 0.42486807,\n",
       "       0.62302594, 0.61833728, 0.60663049, 0.52749406, 0.56691813,\n",
       "       0.51776023, 0.53403362, 0.695052  , 0.57278911, 0.43177097,\n",
       "       0.65620549, 0.51742174, 0.52968798, 0.55538302, 0.56412849,\n",
       "       0.54710882, 0.53243501, 0.62945267, 0.66035665, 0.57344671,\n",
       "       0.67858826, 0.5804858 , 0.59885361, 0.44592409, 0.59273869,\n",
       "       0.41012282, 0.61910048, 0.6807668 , 0.61698462, 0.5468879 ,\n",
       "       0.50929882, 0.50299551, 0.69766467, 0.4235157 , 0.61670917,\n",
       "       0.56086385, 0.56876519, 0.60259562, 0.57018158, 0.61435888,\n",
       "       0.56288939, 0.48262955, 0.65224895, 0.59318177, 0.54351233,\n",
       "       0.43118267, 0.59006542, 0.52972526, 0.54230279, 0.61923715,\n",
       "       0.55239643, 0.62440717, 0.57257239, 0.58178799, 0.62486338,\n",
       "       0.51551576, 0.43083857, 0.44513747, 0.52988048, 0.60412445,\n",
       "       0.42852263, 0.44420137, 0.59946684, 0.62179757, 0.58867371,\n",
       "       0.5449592 , 0.57755541, 0.58880159, 0.57727368, 0.44290317,\n",
       "       0.70006342, 0.63066718, 0.54092314, 0.51928441, 0.42451401,\n",
       "       0.61231918, 0.5981122 , 0.58930215, 0.59785796, 0.46501636,\n",
       "       0.58639994, 0.60684477, 0.59634175, 0.62377121, 0.63674106,\n",
       "       0.62050075, 0.59685149, 0.61778458, 0.49163832, 0.6125226 ,\n",
       "       0.53619168, 0.60995114, 0.50500577, 0.44997342, 0.51807002,\n",
       "       0.54997746, 0.54112162, 0.4334547 , 0.6536023 , 0.57725477,\n",
       "       0.56325169, 0.5583796 , 0.46290814, 0.4434561 , 0.41461336,\n",
       "       0.59392342, 0.50335905, 0.56185282, 0.52949667, 0.58801067,\n",
       "       0.5914029 , 0.58769246, 0.65726491, 0.45480268, 0.63447505,\n",
       "       0.67864501, 0.5580376 , 0.53671364, 0.48707611, 0.60888264,\n",
       "       0.64934896, 0.68719688, 0.42851513, 0.55341439, 0.51889427,\n",
       "       0.4156014 , 0.64985937, 0.52251667, 0.55711331, 0.44134835,\n",
       "       0.59075836, 0.67309388, 0.42495233, 0.63201789, 0.66207513,\n",
       "       0.69229809, 0.54521633, 0.61782628, 0.53745437, 0.60796435,\n",
       "       0.57093551, 0.41035527, 0.51709208, 0.61001126, 0.64831083,\n",
       "       0.60249745, 0.60977583, 0.59901463, 0.62869622, 0.43811716,\n",
       "       0.51614362, 0.54720235, 0.50033387, 0.56504008, 0.64830302,\n",
       "       0.56507649, 0.54436972, 0.5853134 , 0.51985811, 0.57425234,\n",
       "       0.4195888 , 0.51400677, 0.58101048, 0.48299233, 0.6392588 ,\n",
       "       0.60539917, 0.55733251, 0.52676721, 0.56094199, 0.64249323,\n",
       "       0.54098254, 0.58320101, 0.64256353, 0.40489948, 0.60750711,\n",
       "       0.62779515, 0.61537832, 0.5588631 , 0.50311636, 0.45313587,\n",
       "       0.58657045, 0.60556156, 0.56505545, 0.45865394, 0.70576379,\n",
       "       0.64133035, 0.58649576, 0.68234133, 0.42745875, 0.59676812,\n",
       "       0.59402117, 0.55513056, 0.47629004, 0.54289074, 0.49348279,\n",
       "       0.69991571, 0.60163241, 0.42612321, 0.66420556, 0.51539911,\n",
       "       0.60244523, 0.61674952, 0.5148527 , 0.5538221 , 0.44423926,\n",
       "       0.63046032, 0.52771647, 0.61715459, 0.5320845 , 0.69190182,\n",
       "       0.60926815, 0.4035046 , 0.474913  , 0.44025913, 0.65740916,\n",
       "       0.44027149, 0.63455612, 0.5988479 , 0.52256439, 0.55924187,\n",
       "       0.62471626, 0.49368313, 0.63455944, 0.47430854, 0.65515008,\n",
       "       0.54888537, 0.41901337, 0.60918712, 0.51456175, 0.60122532,\n",
       "       0.59145654, 0.53572802, 0.43788879, 0.56369429, 0.55884775,\n",
       "       0.51649812, 0.54861972, 0.67393708, 0.67454819, 0.52003045,\n",
       "       0.65422784, 0.49910294, 0.62525082, 0.46008207, 0.59319637,\n",
       "       0.70283903, 0.43021378, 0.58614589, 0.62592194, 0.4679333 ,\n",
       "       0.5890951 , 0.61310694, 0.56590383, 0.63930887, 0.55087575,\n",
       "       0.70332405, 0.57695986, 0.52037343, 0.60614862, 0.42541604,\n",
       "       0.61952752, 0.55291447, 0.63064701, 0.52272749, 0.52450638,\n",
       "       0.65592296, 0.51519339, 0.54822231, 0.63744894, 0.60425031,\n",
       "       0.61600352, 0.63947214, 0.47709693, 0.50075522, 0.59939553,\n",
       "       0.56255174, 0.69047508, 0.65885775, 0.59874332, 0.52489548,\n",
       "       0.61288969, 0.71575864, 0.43716239, 0.56841205, 0.51623314,\n",
       "       0.61704077, 0.57793501, 0.55379638, 0.70845521, 0.62907419,\n",
       "       0.52925373, 0.51663105, 0.60042187, 0.46611177, 0.59168335,\n",
       "       0.70787924, 0.70830138, 0.56965313, 0.60828892, 0.52460455,\n",
       "       0.46179998, 0.53997439, 0.57285162, 0.58214173, 0.69647935,\n",
       "       0.56377193, 0.53441103, 0.42989816, 0.51652685, 0.50789723,\n",
       "       0.58110966, 0.59796309, 0.57665356, 0.64192401, 0.71312854,\n",
       "       0.4956471 , 0.43006879, 0.56983904, 0.56370092, 0.53415114,\n",
       "       0.59814846, 0.47931034, 0.49899654, 0.6145271 , 0.59665663,\n",
       "       0.66717816, 0.49982597, 0.66047073, 0.46338515, 0.49486754,\n",
       "       0.49342363, 0.44581196, 0.61342873, 0.592246  , 0.60261899,\n",
       "       0.55165236, 0.6036928 , 0.51417268, 0.5923083 , 0.48470953,\n",
       "       0.56890458, 0.49987142, 0.56503415, 0.60539282, 0.5890951 ,\n",
       "       0.70195374, 0.50628889, 0.66181272, 0.61041538, 0.58296848,\n",
       "       0.54521321, 0.63926652, 0.50952045, 0.5170689 , 0.51799409,\n",
       "       0.60894181, 0.52328247, 0.45086009, 0.56806727, 0.46054109,\n",
       "       0.52934384, 0.60134137, 0.57446272, 0.58307045, 0.57297879,\n",
       "       0.58979055, 0.45902722, 0.60727112, 0.69881039, 0.44387209,\n",
       "       0.63129734, 0.45541827, 0.61438475, 0.49605451, 0.60671956,\n",
       "       0.59812148, 0.53252394, 0.47555067, 0.65024606, 0.6600694 ,\n",
       "       0.66980623, 0.46497327, 0.56655173, 0.50127022, 0.6048471 ,\n",
       "       0.56618681, 0.49597172, 0.46952095, 0.46550937, 0.45393792,\n",
       "       0.53841823, 0.56794262, 0.61233974, 0.41189204, 0.45584647,\n",
       "       0.62567658, 0.56032623, 0.60166764, 0.424334  , 0.55032677,\n",
       "       0.60567279, 0.61090312, 0.5652499 , 0.56153958, 0.59486949,\n",
       "       0.69730103, 0.61565163, 0.63852629, 0.66883302, 0.51157679,\n",
       "       0.54287972, 0.55498364, 0.42684256, 0.56427361, 0.57277825,\n",
       "       0.51024602, 0.43120368, 0.52594818, 0.42104269, 0.51364686,\n",
       "       0.45338187, 0.52089068, 0.60124879, 0.58069739, 0.66382549,\n",
       "       0.62724094, 0.51333993, 0.55872475, 0.54547342, 0.56080094,\n",
       "       0.46157231, 0.69070948, 0.50208303, 0.50463059, 0.59819466,\n",
       "       0.59149416, 0.46339951, 0.6222685 , 0.57333857])"
      ]
     },
     "execution_count": 33,
     "metadata": {},
     "output_type": "execute_result"
    }
   ],
   "source": [
    "\n",
    "# probability of getting output as 0 - no rain\n",
    "\n",
    "logreg.predict_proba(X_test)[:,0]"
   ]
  },
  {
   "cell_type": "code",
   "execution_count": 34,
   "metadata": {},
   "outputs": [
    {
     "data": {
      "text/plain": [
       "array([0.43900823, 0.37795583, 0.41826014, 0.50315041, 0.45383053,\n",
       "       0.57538306, 0.38399749, 0.46461829, 0.40762137, 0.45922238,\n",
       "       0.46816737, 0.37790256, 0.29271188, 0.37418529, 0.3375689 ,\n",
       "       0.49109133, 0.48730433, 0.55739238, 0.44036862, 0.5010266 ,\n",
       "       0.42069952, 0.49863193, 0.48183458, 0.39750719, 0.43737466,\n",
       "       0.44951621, 0.40044775, 0.40543608, 0.4455981 , 0.37119617,\n",
       "       0.36193911, 0.35438558, 0.60074519, 0.55918838, 0.31584719,\n",
       "       0.48697846, 0.53472571, 0.37621163, 0.49241137, 0.52156143,\n",
       "       0.35368289, 0.47761591, 0.47963851, 0.55971468, 0.53790536,\n",
       "       0.48199582, 0.47543718, 0.49097536, 0.40947202, 0.39881079,\n",
       "       0.4390824 , 0.54292847, 0.41115733, 0.54267525, 0.34532065,\n",
       "       0.52092352, 0.42122575, 0.33481717, 0.34001064, 0.41135861,\n",
       "       0.44745218, 0.35443211, 0.47020153, 0.34922937, 0.4969589 ,\n",
       "       0.45712326, 0.47599924, 0.41392346, 0.47585006, 0.57426678,\n",
       "       0.30807137, 0.49676749, 0.45986415, 0.46633615, 0.40279633,\n",
       "       0.40387712, 0.36458998, 0.47477496, 0.46961782, 0.44125566,\n",
       "       0.45022135, 0.52498253, 0.50963163, 0.54207027, 0.39830745,\n",
       "       0.52431479, 0.40746242, 0.54195347, 0.51066102, 0.3678895 ,\n",
       "       0.42145382, 0.33419037, 0.40828729, 0.56763051, 0.46756265,\n",
       "       0.41860159, 0.41176342, 0.54085887, 0.44517848, 0.56630584,\n",
       "       0.46277161, 0.43981472, 0.43150227, 0.29427344, 0.57174531,\n",
       "       0.48219045, 0.53311255, 0.36537282, 0.40821896, 0.36461005,\n",
       "       0.39550272, 0.48769646, 0.50860631, 0.59496191, 0.42428964,\n",
       "       0.43294113, 0.58937616, 0.48218702, 0.29901743, 0.40874562,\n",
       "       0.3669783 , 0.37370721, 0.42564316, 0.40300657, 0.48986955,\n",
       "       0.46289336, 0.41107742, 0.37266361, 0.39342983, 0.44061771,\n",
       "       0.50013807, 0.42828368, 0.41561267, 0.38091314, 0.40924473,\n",
       "       0.46756528, 0.44471038, 0.47711073, 0.55602542, 0.3192332 ,\n",
       "       0.37993632, 0.46671736, 0.43047347, 0.44931202, 0.44586388,\n",
       "       0.43072914, 0.40608969, 0.39508777, 0.49939285, 0.58879244,\n",
       "       0.49920746, 0.32922858, 0.56882056, 0.44295611, 0.38807855,\n",
       "       0.45270965, 0.41711603, 0.5102157 , 0.44821422, 0.40747006,\n",
       "       0.52878352, 0.45819701, 0.4037121 , 0.30712622, 0.33730721,\n",
       "       0.44440311, 0.40292325, 0.46585124, 0.32345632, 0.5640367 ,\n",
       "       0.49810236, 0.40785683, 0.29773003, 0.39167357, 0.46219456,\n",
       "       0.5029828 , 0.44188464, 0.4466718 , 0.50710619, 0.45688172,\n",
       "       0.3806609 , 0.44195281, 0.29167834, 0.39891102, 0.39865917,\n",
       "       0.42192163, 0.34129364, 0.39171267, 0.41798405, 0.31476899,\n",
       "       0.54583304, 0.44237428, 0.42547297, 0.4148623 , 0.36213376,\n",
       "       0.38139284, 0.35951574, 0.46073235, 0.37300365, 0.52271672,\n",
       "       0.33587103, 0.35985125, 0.48605081, 0.58082016, 0.32264822,\n",
       "       0.47852644, 0.48411775, 0.56837252, 0.44009008, 0.57747577,\n",
       "       0.39869583, 0.44522548, 0.35117602, 0.41034554, 0.46300299,\n",
       "       0.564617  , 0.34724458, 0.489197  , 0.39572584, 0.55198291,\n",
       "       0.40014721, 0.42195635, 0.35597151, 0.57497036, 0.54838397,\n",
       "       0.43781467, 0.39393552, 0.55615836, 0.49889593, 0.57513193,\n",
       "       0.37697406, 0.38166272, 0.39336951, 0.47250594, 0.43308187,\n",
       "       0.48223977, 0.46596638, 0.304948  , 0.42721089, 0.56822903,\n",
       "       0.34379451, 0.48257826, 0.47031202, 0.44461698, 0.43587151,\n",
       "       0.45289118, 0.46756499, 0.37054733, 0.33964335, 0.42655329,\n",
       "       0.32141174, 0.4195142 , 0.40114639, 0.55407591, 0.40726131,\n",
       "       0.58987718, 0.38089952, 0.3192332 , 0.38301538, 0.4531121 ,\n",
       "       0.49070118, 0.49700449, 0.30233533, 0.5764843 , 0.38329083,\n",
       "       0.43913615, 0.43123481, 0.39740438, 0.42981842, 0.38564112,\n",
       "       0.43711061, 0.51737045, 0.34775105, 0.40681823, 0.45648767,\n",
       "       0.56881733, 0.40993458, 0.47027474, 0.45769721, 0.38076285,\n",
       "       0.44760357, 0.37559283, 0.42742761, 0.41821201, 0.37513662,\n",
       "       0.48448424, 0.56916143, 0.55486253, 0.47011952, 0.39587555,\n",
       "       0.57147737, 0.55579863, 0.40053316, 0.37820243, 0.41132629,\n",
       "       0.4550408 , 0.42244459, 0.41119841, 0.42272632, 0.55709683,\n",
       "       0.29993658, 0.36933282, 0.45907686, 0.48071559, 0.57548599,\n",
       "       0.38768082, 0.4018878 , 0.41069785, 0.40214204, 0.53498364,\n",
       "       0.41360006, 0.39315523, 0.40365825, 0.37622879, 0.36325894,\n",
       "       0.37949925, 0.40314851, 0.38221542, 0.50836168, 0.3874774 ,\n",
       "       0.46380832, 0.39004886, 0.49499423, 0.55002658, 0.48192998,\n",
       "       0.45002254, 0.45887838, 0.5665453 , 0.3463977 , 0.42274523,\n",
       "       0.43674831, 0.4416204 , 0.53709186, 0.5565439 , 0.58538664,\n",
       "       0.40607658, 0.49664095, 0.43814718, 0.47050333, 0.41198933,\n",
       "       0.4085971 , 0.41230754, 0.34273509, 0.54519732, 0.36552495,\n",
       "       0.32135499, 0.4419624 , 0.46328636, 0.51292389, 0.39111736,\n",
       "       0.35065104, 0.31280312, 0.57148487, 0.44658561, 0.48110573,\n",
       "       0.5843986 , 0.35014063, 0.47748333, 0.44288669, 0.55865165,\n",
       "       0.40924164, 0.32690612, 0.57504767, 0.36798211, 0.33792487,\n",
       "       0.30770191, 0.45478367, 0.38217372, 0.46254563, 0.39203565,\n",
       "       0.42906449, 0.58964473, 0.48290792, 0.38998874, 0.35168917,\n",
       "       0.39750255, 0.39022417, 0.40098537, 0.37130378, 0.56188284,\n",
       "       0.48385638, 0.45279765, 0.49966613, 0.43495992, 0.35169698,\n",
       "       0.43492351, 0.45563028, 0.4146866 , 0.48014189, 0.42574766,\n",
       "       0.5804112 , 0.48599323, 0.41898952, 0.51700767, 0.3607412 ,\n",
       "       0.39460083, 0.44266749, 0.47323279, 0.43905801, 0.35750677,\n",
       "       0.45901746, 0.41679899, 0.35743647, 0.59510052, 0.39249289,\n",
       "       0.37220485, 0.38462168, 0.4411369 , 0.49688364, 0.54686413,\n",
       "       0.41342955, 0.39443844, 0.43494455, 0.54134606, 0.29423621,\n",
       "       0.35866965, 0.41350424, 0.31765867, 0.57254125, 0.40323188,\n",
       "       0.40597883, 0.44486944, 0.52370996, 0.45710926, 0.50651721,\n",
       "       0.30008429, 0.39836759, 0.57387679, 0.33579444, 0.48460089,\n",
       "       0.39755477, 0.38325048, 0.4851473 , 0.4461779 , 0.55576074,\n",
       "       0.36953968, 0.47228353, 0.38284541, 0.4679155 , 0.30809818,\n",
       "       0.39073185, 0.5964954 , 0.525087  , 0.55974087, 0.34259084,\n",
       "       0.55972851, 0.36544388, 0.4011521 , 0.47743561, 0.44075813,\n",
       "       0.37528374, 0.50631687, 0.36544056, 0.52569146, 0.34484992,\n",
       "       0.45111463, 0.58098663, 0.39081288, 0.48543825, 0.39877468,\n",
       "       0.40854346, 0.46427198, 0.56211121, 0.43630571, 0.44115225,\n",
       "       0.48350188, 0.45138028, 0.32606292, 0.32545181, 0.47996955,\n",
       "       0.34577216, 0.50089706, 0.37474918, 0.53991793, 0.40680363,\n",
       "       0.29716097, 0.56978622, 0.41385411, 0.37407806, 0.5320667 ,\n",
       "       0.4109049 , 0.38689306, 0.43409617, 0.36069113, 0.44912425,\n",
       "       0.29667595, 0.42304014, 0.47962657, 0.39385138, 0.57458396,\n",
       "       0.38047248, 0.44708553, 0.36935299, 0.47727251, 0.47549362,\n",
       "       0.34407704, 0.48480661, 0.45177769, 0.36255106, 0.39574969,\n",
       "       0.38399648, 0.36052786, 0.52290307, 0.49924478, 0.40060447,\n",
       "       0.43744826, 0.30952492, 0.34114225, 0.40125668, 0.47510452,\n",
       "       0.38711031, 0.28424136, 0.56283761, 0.43158795, 0.48376686,\n",
       "       0.38295923, 0.42206499, 0.44620362, 0.29154479, 0.37092581,\n",
       "       0.47074627, 0.48336895, 0.39957813, 0.53388823, 0.40831665,\n",
       "       0.29212076, 0.29169862, 0.43034687, 0.39171108, 0.47539545,\n",
       "       0.53820002, 0.46002561, 0.42714838, 0.41785827, 0.30352065,\n",
       "       0.43622807, 0.46558897, 0.57010184, 0.48347315, 0.49210277,\n",
       "       0.41889034, 0.40203691, 0.42334644, 0.35807599, 0.28687146,\n",
       "       0.5043529 , 0.56993121, 0.43016096, 0.43629908, 0.46584886,\n",
       "       0.40185154, 0.52068966, 0.50100346, 0.3854729 , 0.40334337,\n",
       "       0.33282184, 0.50017403, 0.33952927, 0.53661485, 0.50513246,\n",
       "       0.50657637, 0.55418804, 0.38657127, 0.407754  , 0.39738101,\n",
       "       0.44834764, 0.3963072 , 0.48582732, 0.4076917 , 0.51529047,\n",
       "       0.43109542, 0.50012858, 0.43496585, 0.39460718, 0.4109049 ,\n",
       "       0.29804626, 0.49371111, 0.33818728, 0.38958462, 0.41703152,\n",
       "       0.45478679, 0.36073348, 0.49047955, 0.4829311 , 0.48200591,\n",
       "       0.39105819, 0.47671753, 0.54913991, 0.43193273, 0.53945891,\n",
       "       0.47065616, 0.39865863, 0.42553728, 0.41692955, 0.42702121,\n",
       "       0.41020945, 0.54097278, 0.39272888, 0.30118961, 0.55612791,\n",
       "       0.36870266, 0.54458173, 0.38561525, 0.50394549, 0.39328044,\n",
       "       0.40187852, 0.46747606, 0.52444933, 0.34975394, 0.3399306 ,\n",
       "       0.33019377, 0.53502673, 0.43344827, 0.49872978, 0.3951529 ,\n",
       "       0.43381319, 0.50402828, 0.53047905, 0.53449063, 0.54606208,\n",
       "       0.46158177, 0.43205738, 0.38766026, 0.58810796, 0.54415353,\n",
       "       0.37432342, 0.43967377, 0.39833236, 0.575666  , 0.44967323,\n",
       "       0.39432721, 0.38909688, 0.4347501 , 0.43846042, 0.40513051,\n",
       "       0.30269897, 0.38434837, 0.36147371, 0.33116698, 0.48842321,\n",
       "       0.45712028, 0.44501636, 0.57315744, 0.43572639, 0.42722175,\n",
       "       0.48975398, 0.56879632, 0.47405182, 0.57895731, 0.48635314,\n",
       "       0.54661813, 0.47910932, 0.39875121, 0.41930261, 0.33617451,\n",
       "       0.37275906, 0.48666007, 0.44127525, 0.45452658, 0.43919906,\n",
       "       0.53842769, 0.30929052, 0.49791697, 0.49536941, 0.40180534,\n",
       "       0.40850584, 0.53660049, 0.3777315 , 0.42666143])"
      ]
     },
     "execution_count": 34,
     "metadata": {},
     "output_type": "execute_result"
    }
   ],
   "source": [
    "\n",
    "# probability of getting output as 1 - rain\n",
    "\n",
    "logreg.predict_proba(X_test)[:,1]"
   ]
  },
  {
   "cell_type": "code",
   "execution_count": 35,
   "metadata": {},
   "outputs": [
    {
     "name": "stdout",
     "output_type": "stream",
     "text": [
      "Model accuracy score: 0.7100\n"
     ]
    }
   ],
   "source": [
    "from sklearn.metrics import accuracy_score\n",
    "\n",
    "print('Model accuracy score: {0:0.4f}'. format(accuracy_score(y_test, y_pred_test)))"
   ]
  },
  {
   "cell_type": "code",
   "execution_count": null,
   "metadata": {},
   "outputs": [],
   "source": []
  },
  {
   "cell_type": "markdown",
   "metadata": {},
   "source": [
    "### Compare the train-set and test-set accuracy"
   ]
  },
  {
   "cell_type": "code",
   "execution_count": 36,
   "metadata": {},
   "outputs": [
    {
     "data": {
      "text/plain": [
       "array([0, 0, 0, ..., 1, 0, 0], dtype=int64)"
      ]
     },
     "execution_count": 36,
     "metadata": {},
     "output_type": "execute_result"
    }
   ],
   "source": [
    "y_pred_train = logreg.predict(X_train)\n",
    "\n",
    "y_pred_train"
   ]
  },
  {
   "cell_type": "code",
   "execution_count": 38,
   "metadata": {},
   "outputs": [
    {
     "name": "stdout",
     "output_type": "stream",
     "text": [
      "Training-set accuracy score: 0.7125\n"
     ]
    }
   ],
   "source": [
    "print('Training-set accuracy score: {0:0.4f}'. format(accuracy_score(y_train, y_pred_train)))"
   ]
  },
  {
   "cell_type": "code",
   "execution_count": null,
   "metadata": {},
   "outputs": [],
   "source": []
  },
  {
   "cell_type": "markdown",
   "metadata": {},
   "source": [
    "###  Check for overfitting and underfitting"
   ]
  },
  {
   "cell_type": "code",
   "execution_count": 39,
   "metadata": {},
   "outputs": [
    {
     "name": "stdout",
     "output_type": "stream",
     "text": [
      "Training set score: 0.7125\n",
      "Test set score: 0.7100\n"
     ]
    }
   ],
   "source": [
    "# print the scores on training and test set\n",
    "\n",
    "print('Training set score: {:.4f}'.format(logreg.score(X_train, y_train)))\n",
    "\n",
    "print('Test set score: {:.4f}'.format(logreg.score(X_test, y_test)))"
   ]
  },
  {
   "cell_type": "code",
   "execution_count": 40,
   "metadata": {},
   "outputs": [
    {
     "data": {
      "text/plain": [
       "LogisticRegression(C=100, random_state=0, solver='liblinear')"
      ]
     },
     "execution_count": 40,
     "metadata": {},
     "output_type": "execute_result"
    }
   ],
   "source": [
    "# fit the Logsitic Regression model with C=100\n",
    "\n",
    "# instantiate the model\n",
    "logreg100 = LogisticRegression(C=100, solver='liblinear', random_state=0)\n",
    "\n",
    "\n",
    "# fit the model\n",
    "logreg100.fit(X_train, y_train)"
   ]
  },
  {
   "cell_type": "code",
   "execution_count": 41,
   "metadata": {},
   "outputs": [
    {
     "name": "stdout",
     "output_type": "stream",
     "text": [
      "Training set score: 0.7253\n",
      "Test set score: 0.7235\n"
     ]
    }
   ],
   "source": [
    "# print the scores on training and test set\n",
    "\n",
    "print('Training set score: {:.4f}'.format(logreg100.score(X_train, y_train)))\n",
    "\n",
    "print('Test set score: {:.4f}'.format(logreg100.score(X_test, y_test)))"
   ]
  },
  {
   "cell_type": "code",
   "execution_count": 42,
   "metadata": {},
   "outputs": [
    {
     "data": {
      "text/plain": [
       "LogisticRegression(C=0.01, random_state=0, solver='liblinear')"
      ]
     },
     "execution_count": 42,
     "metadata": {},
     "output_type": "execute_result"
    }
   ],
   "source": [
    "# fit the Logsitic Regression model with C=001\n",
    "\n",
    "# instantiate the model\n",
    "logreg001 = LogisticRegression(C=0.01, solver='liblinear', random_state=0)\n",
    "\n",
    "\n",
    "# fit the model\n",
    "logreg001.fit(X_train, y_train)"
   ]
  },
  {
   "cell_type": "code",
   "execution_count": 43,
   "metadata": {},
   "outputs": [
    {
     "name": "stdout",
     "output_type": "stream",
     "text": [
      "Training set score: 0.5623\n",
      "Test set score: 0.5471\n"
     ]
    }
   ],
   "source": [
    "\n",
    "print('Training set score: {:.4f}'.format(logreg001.score(X_train, y_train)))\n",
    "\n",
    "print('Test set score: {:.4f}'.format(logreg001.score(X_test, y_test)))"
   ]
  },
  {
   "cell_type": "code",
   "execution_count": null,
   "metadata": {},
   "outputs": [],
   "source": []
  },
  {
   "cell_type": "markdown",
   "metadata": {},
   "source": [
    "### Compare model accuracy with null accuracy"
   ]
  },
  {
   "cell_type": "code",
   "execution_count": 44,
   "metadata": {},
   "outputs": [
    {
     "data": {
      "text/plain": [
       "0    366\n",
       "1    303\n",
       "Name: y, dtype: int64"
      ]
     },
     "execution_count": 44,
     "metadata": {},
     "output_type": "execute_result"
    }
   ],
   "source": [
    "# check class distribution in test set\n",
    "\n",
    "y_test.value_counts()"
   ]
  },
  {
   "cell_type": "code",
   "execution_count": 46,
   "metadata": {},
   "outputs": [
    {
     "name": "stdout",
     "output_type": "stream",
     "text": [
      "Null accuracy score: 0.5471\n"
     ]
    }
   ],
   "source": [
    "# check null accuracy score\n",
    "\n",
    "null_accuracy = (366/(366+303))\n",
    "\n",
    "print('Null accuracy score: {0:0.4f}'. format(null_accuracy))"
   ]
  },
  {
   "cell_type": "code",
   "execution_count": 47,
   "metadata": {},
   "outputs": [
    {
     "name": "stdout",
     "output_type": "stream",
     "text": [
      "Confusion matrix\n",
      "\n",
      " [[353  13]\n",
      " [181 122]]\n",
      "\n",
      "True Positives(TP) =  353\n",
      "\n",
      "True Negatives(TN) =  122\n",
      "\n",
      "False Positives(FP) =  13\n",
      "\n",
      "False Negatives(FN) =  181\n"
     ]
    }
   ],
   "source": [
    "# Print the Confusion Matrix and slice it into four pieces\n",
    "\n",
    "from sklearn.metrics import confusion_matrix\n",
    "\n",
    "cm = confusion_matrix(y_test, y_pred_test)\n",
    "\n",
    "print('Confusion matrix\\n\\n', cm)\n",
    "\n",
    "print('\\nTrue Positives(TP) = ', cm[0,0])\n",
    "\n",
    "print('\\nTrue Negatives(TN) = ', cm[1,1])\n",
    "\n",
    "print('\\nFalse Positives(FP) = ', cm[0,1])\n",
    "\n",
    "print('\\nFalse Negatives(FN) = ', cm[1,0])"
   ]
  },
  {
   "cell_type": "code",
   "execution_count": 48,
   "metadata": {},
   "outputs": [
    {
     "name": "stdout",
     "output_type": "stream",
     "text": [
      "              precision    recall  f1-score   support\n",
      "\n",
      "           0       0.66      0.96      0.78       366\n",
      "           1       0.90      0.40      0.56       303\n",
      "\n",
      "    accuracy                           0.71       669\n",
      "   macro avg       0.78      0.68      0.67       669\n",
      "weighted avg       0.77      0.71      0.68       669\n",
      "\n"
     ]
    }
   ],
   "source": [
    "\n",
    "from sklearn.metrics import classification_report\n",
    "\n",
    "print(classification_report(y_test, y_pred_test))"
   ]
  },
  {
   "cell_type": "markdown",
   "metadata": {},
   "source": [
    "### Decision Tree"
   ]
  },
  {
   "cell_type": "code",
   "execution_count": 75,
   "metadata": {},
   "outputs": [],
   "source": [
    "\n",
    "from sklearn.tree import DecisionTreeRegressor\n",
    "model2 = DecisionTreeRegressor(max_depth=4).fit(X_train,y_train)"
   ]
  },
  {
   "cell_type": "code",
   "execution_count": 76,
   "metadata": {},
   "outputs": [],
   "source": [
    "\n",
    "#Predict the response for test dataset\n",
    "Y_pred = model2.predict(X_test)"
   ]
  },
  {
   "cell_type": "code",
   "execution_count": 77,
   "metadata": {},
   "outputs": [
    {
     "data": {
      "text/plain": [
       "array([0.14611872, 0.        , 0.63768116, 1.        , 0.        ,\n",
       "       1.        , 0.        , 0.63768116, 0.        , 0.        ,\n",
       "       0.        , 0.        , 0.99585062, 0.        , 0.99585062,\n",
       "       0.98076923, 0.        , 1.        , 0.14611872, 0.98076923,\n",
       "       0.63768116, 0.98076923, 0.        , 0.13157895, 0.14611872,\n",
       "       0.14611872, 0.14611872, 0.        , 0.63768116, 0.        ,\n",
       "       0.99585062, 0.        , 1.        , 1.        , 0.99585062,\n",
       "       0.        , 1.        , 0.99585062, 0.98076923, 1.        ,\n",
       "       0.99585062, 0.        , 0.        , 1.        , 1.        ,\n",
       "       0.98076923, 0.        , 0.98076923, 0.        , 0.        ,\n",
       "       0.5       , 1.        , 0.13157895, 1.        , 0.99585062,\n",
       "       1.        , 0.14611872, 0.99585062, 0.99585062, 0.14611872,\n",
       "       0.14611872, 0.99585062, 0.        , 0.99585062, 0.98076923,\n",
       "       0.5       , 0.        , 0.14611872, 0.63768116, 1.        ,\n",
       "       0.99585062, 0.98076923, 0.        , 0.        , 0.99585062,\n",
       "       0.        , 0.99585062, 0.        , 0.        , 0.63768116,\n",
       "       0.5       , 1.        , 0.        , 1.        , 0.        ,\n",
       "       1.        , 0.        , 1.        , 0.        , 0.99585062,\n",
       "       0.13157895, 0.99585062, 0.13157895, 1.        , 0.14611872,\n",
       "       0.14611872, 0.        , 1.        , 0.14611872, 1.        ,\n",
       "       0.        , 0.14611872, 0.14611872, 0.99585062, 1.        ,\n",
       "       0.        , 1.        , 0.        , 0.        , 0.99585062,\n",
       "       0.        , 0.        , 1.        , 1.        , 0.16666667,\n",
       "       0.16666667, 1.        , 0.63768116, 0.99585062, 0.        ,\n",
       "       0.99585062, 0.        , 0.16666667, 0.        , 0.        ,\n",
       "       0.63768116, 0.13157895, 0.        , 0.        , 0.63768116,\n",
       "       0.98076923, 0.63768116, 0.        , 0.        , 0.14611872,\n",
       "       0.        , 0.63768116, 0.        , 1.        , 0.99585062,\n",
       "       0.        , 0.98076923, 0.14611872, 0.63768116, 0.63768116,\n",
       "       0.16666667, 0.        , 0.        , 0.        , 1.        ,\n",
       "       0.        , 0.99585062, 1.        , 0.14611872, 0.        ,\n",
       "       0.        , 0.        , 0.98076923, 0.14611872, 0.        ,\n",
       "       1.        , 0.98076923, 0.        , 0.99585062, 0.99585062,\n",
       "       0.14611872, 0.        , 0.14611872, 0.99585062, 1.        ,\n",
       "       0.        , 0.        , 0.99585062, 0.        , 0.        ,\n",
       "       1.        , 0.5       , 0.14611872, 0.        , 0.        ,\n",
       "       0.99585062, 0.5       , 0.99585062, 0.        , 0.13157895,\n",
       "       0.14611872, 0.99585062, 0.        , 0.13157895, 0.99585062,\n",
       "       1.        , 0.63768116, 0.63768116, 0.63768116, 0.99585062,\n",
       "       0.99585062, 0.99585062, 0.98076923, 0.        , 1.        ,\n",
       "       0.99585062, 0.        , 0.        , 1.        , 0.99585062,\n",
       "       0.        , 0.        , 1.        , 0.14611872, 1.        ,\n",
       "       0.        , 0.14611872, 0.99585062, 0.        , 0.5       ,\n",
       "       1.        , 0.99585062, 0.98076923, 0.        , 1.        ,\n",
       "       0.14611872, 0.63768116, 0.        , 1.        , 1.        ,\n",
       "       0.14611872, 0.99585062, 1.        , 1.        , 1.        ,\n",
       "       0.99585062, 0.99585062, 0.        , 0.        , 0.16666667,\n",
       "       0.        , 0.        , 0.99585062, 0.14611872, 1.        ,\n",
       "       0.99585062, 0.        , 0.        , 0.63768116, 0.63768116,\n",
       "       0.14611872, 0.        , 0.        , 0.99585062, 0.14611872,\n",
       "       0.99585062, 0.        , 0.99585062, 1.        , 0.13157895,\n",
       "       1.        , 0.        , 0.99585062, 0.        , 0.14611872,\n",
       "       0.        , 0.        , 0.99585062, 1.        , 0.        ,\n",
       "       0.14611872, 0.63768116, 0.        , 0.14611872, 0.99585062,\n",
       "       0.63768116, 1.        , 0.99585062, 0.        , 0.14611872,\n",
       "       1.        , 0.13157895, 0.        , 0.        , 0.        ,\n",
       "       0.        , 0.        , 0.        , 0.14611872, 0.        ,\n",
       "       0.        , 1.        , 1.        , 0.        , 0.        ,\n",
       "       1.        , 1.        , 0.        , 0.99585062, 0.13157895,\n",
       "       0.98076923, 0.        , 0.        , 0.63768116, 1.        ,\n",
       "       0.99585062, 0.99585062, 0.        , 0.        , 1.        ,\n",
       "       0.        , 0.99585062, 0.13157895, 0.13157895, 1.        ,\n",
       "       0.63768116, 0.        , 0.13157895, 0.        , 0.        ,\n",
       "       0.        , 0.13157895, 0.        , 0.        , 0.        ,\n",
       "       0.        , 0.        , 0.        , 1.        , 0.        ,\n",
       "       0.14611872, 0.14611872, 1.        , 0.99585062, 0.63768116,\n",
       "       0.63768116, 0.        , 1.        , 1.        , 1.        ,\n",
       "       0.        , 0.        , 0.14611872, 0.        , 0.13157895,\n",
       "       0.        , 0.        , 0.99585062, 1.        , 0.99585062,\n",
       "       0.99585062, 0.14611872, 0.        , 0.        , 0.        ,\n",
       "       0.        , 0.99585062, 1.        , 0.14611872, 0.        ,\n",
       "       1.        , 0.99585062, 0.        , 0.14611872, 1.        ,\n",
       "       0.63768116, 0.99585062, 1.        , 0.        , 0.99585062,\n",
       "       0.99585062, 0.63768116, 0.        , 0.        , 0.        ,\n",
       "       0.14611872, 1.        , 0.        , 0.99585062, 0.99585062,\n",
       "       0.        , 0.        , 0.        , 0.        , 1.        ,\n",
       "       0.        , 0.        , 0.        , 0.14611872, 0.        ,\n",
       "       0.16666667, 0.14611872, 0.14611872, 0.        , 0.        ,\n",
       "       1.        , 0.        , 0.        , 1.        , 0.99585062,\n",
       "       0.        , 0.63768116, 0.        , 0.14611872, 0.99585062,\n",
       "       0.14611872, 0.63768116, 0.        , 1.        , 0.        ,\n",
       "       0.99585062, 0.99585062, 0.14611872, 0.        , 1.        ,\n",
       "       0.13157895, 0.        , 0.63768116, 1.        , 0.99585062,\n",
       "       0.        , 0.        , 0.99585062, 1.        , 0.14611872,\n",
       "       0.13157895, 0.        , 1.        , 0.        , 1.        ,\n",
       "       0.99585062, 0.        , 1.        , 0.99585062, 0.98076923,\n",
       "       0.        , 0.        , 1.        , 0.14611872, 1.        ,\n",
       "       0.99585062, 0.        , 0.        , 0.        , 0.99585062,\n",
       "       0.13157895, 1.        , 1.        , 1.        , 0.99585062,\n",
       "       1.        , 0.        , 0.        , 0.63768116, 0.14611872,\n",
       "       0.        , 0.        , 0.        , 1.        , 0.99585062,\n",
       "       0.14611872, 1.        , 0.        , 0.63768116, 0.13157895,\n",
       "       0.        , 0.        , 1.        , 0.63768116, 0.14611872,\n",
       "       0.        , 0.63768116, 0.99585062, 0.99585062, 0.98076923,\n",
       "       0.99585062, 0.98076923, 0.        , 1.        , 0.        ,\n",
       "       0.99585062, 1.        , 0.14611872, 0.        , 1.        ,\n",
       "       0.13157895, 0.99585062, 0.16666667, 0.        , 0.14611872,\n",
       "       0.99585062, 0.63768116, 0.        , 0.        , 1.        ,\n",
       "       0.99585062, 0.14611872, 0.99585062, 0.        , 0.63768116,\n",
       "       0.99585062, 0.        , 0.14611872, 0.        , 0.        ,\n",
       "       0.        , 0.        , 1.        , 0.98076923, 0.        ,\n",
       "       0.5       , 0.99585062, 0.99585062, 0.13157895, 0.98076923,\n",
       "       0.99585062, 0.99585062, 1.        , 0.63768116, 0.98076923,\n",
       "       0.        , 0.63768116, 0.14611872, 0.99585062, 0.        ,\n",
       "       0.        , 0.        , 0.        , 1.        , 0.        ,\n",
       "       0.99585062, 0.99585062, 0.63768116, 0.        , 0.        ,\n",
       "       1.        , 0.63768116, 0.14611872, 0.        , 0.99585062,\n",
       "       0.63768116, 0.        , 1.        , 0.        , 1.        ,\n",
       "       0.        , 0.        , 0.        , 0.99585062, 0.99585062,\n",
       "       0.        , 1.        , 0.63768116, 0.14611872, 0.98076923,\n",
       "       0.        , 1.        , 0.        , 0.        , 0.        ,\n",
       "       0.99585062, 0.        , 0.99585062, 1.        , 0.98076923,\n",
       "       0.        , 1.        , 0.        , 0.        , 0.        ,\n",
       "       0.14611872, 0.        , 0.5       , 0.        , 1.        ,\n",
       "       0.14611872, 0.        , 0.14611872, 0.        , 0.13157895,\n",
       "       0.99585062, 0.        , 0.99585062, 0.        , 0.        ,\n",
       "       0.14611872, 0.        , 0.        , 0.        , 0.        ,\n",
       "       0.        , 0.        , 1.        , 0.63768116, 1.        ,\n",
       "       0.98076923, 0.        , 0.14611872, 0.        , 0.        ,\n",
       "       0.        , 1.        , 0.        , 0.99585062, 1.        ,\n",
       "       0.99585062, 1.        , 0.99585062, 0.        , 0.        ,\n",
       "       0.        , 0.63768116, 1.        , 0.99585062, 0.99585062,\n",
       "       0.99585062, 1.        , 0.63768116, 0.98076923, 0.        ,\n",
       "       0.14611872, 0.        , 1.        , 1.        , 1.        ,\n",
       "       0.        , 0.63768116, 0.        , 1.        , 1.        ,\n",
       "       0.        , 0.63768116, 0.        , 1.        , 0.14611872,\n",
       "       0.99585062, 0.        , 0.14611872, 0.14611872, 0.        ,\n",
       "       0.99585062, 0.        , 0.99585062, 0.99585062, 0.        ,\n",
       "       0.        , 0.        , 1.        , 0.63768116, 0.        ,\n",
       "       0.        , 1.        , 0.        , 1.        , 0.        ,\n",
       "       1.        , 0.        , 0.        , 0.        , 0.99585062,\n",
       "       0.        , 0.98076923, 0.14611872, 0.14611872, 0.14611872,\n",
       "       1.        , 0.99585062, 0.        , 0.98076923, 0.14611872,\n",
       "       0.14611872, 1.        , 0.        , 0.14611872])"
      ]
     },
     "execution_count": 77,
     "metadata": {},
     "output_type": "execute_result"
    }
   ],
   "source": [
    "Y_pred"
   ]
  },
  {
   "cell_type": "code",
   "execution_count": 78,
   "metadata": {},
   "outputs": [
    {
     "name": "stdout",
     "output_type": "stream",
     "text": [
      "Train Score: 0.8195548485190176\n",
      "Test Score: 0.8249545600090378\n"
     ]
    }
   ],
   "source": [
    "print('Train Score:',model2.score(X_train,y_train))\n",
    "print('Test Score:',model2.score(X_test,y_test))"
   ]
  },
  {
   "cell_type": "code",
   "execution_count": null,
   "metadata": {},
   "outputs": [],
   "source": []
  },
  {
   "cell_type": "code",
   "execution_count": 80,
   "metadata": {},
   "outputs": [
    {
     "name": "stdout",
     "output_type": "stream",
     "text": [
      "0.08339858802463519\n",
      "0.04337328141665097\n",
      "0.20826253003517212\n"
     ]
    }
   ],
   "source": [
    "from sklearn import metrics\n",
    "print(metrics.mean_absolute_error(y_test, Y_pred))\n",
    "print(metrics.mean_squared_error(y_test, Y_pred))\n",
    "print(np.sqrt(metrics.mean_squared_error(y_test, Y_pred)))"
   ]
  },
  {
   "cell_type": "code",
   "execution_count": null,
   "metadata": {},
   "outputs": [],
   "source": []
  },
  {
   "cell_type": "markdown",
   "metadata": {},
   "source": [
    "### Support Vector Machine"
   ]
  },
  {
   "cell_type": "code",
   "execution_count": 82,
   "metadata": {},
   "outputs": [
    {
     "name": "stdout",
     "output_type": "stream",
     "text": [
      "[[362   4]\n",
      " [ 36 267]]\n",
      "0.9402092675635276\n",
      "              precision    recall  f1-score   support\n",
      "\n",
      "           0       0.91      0.99      0.95       366\n",
      "           1       0.99      0.88      0.93       303\n",
      "\n",
      "    accuracy                           0.94       669\n",
      "   macro avg       0.95      0.94      0.94       669\n",
      "weighted avg       0.94      0.94      0.94       669\n",
      "\n"
     ]
    }
   ],
   "source": [
    "from sklearn.svm import SVC\n",
    "svc = SVC()\n",
    "svc.fit(X_train, y_train)\n",
    "\n",
    "y_pred5 = svc.predict(X_test)\n",
    "print(confusion_matrix(y_test,y_pred5))\n",
    "print(accuracy_score(y_test,y_pred5))\n",
    "print(classification_report(y_test,y_pred5))"
   ]
  },
  {
   "cell_type": "markdown",
   "metadata": {},
   "source": [
    "### KNN"
   ]
  },
  {
   "cell_type": "code",
   "execution_count": 83,
   "metadata": {},
   "outputs": [],
   "source": [
    "from sklearn.neighbors import KNeighborsClassifier"
   ]
  },
  {
   "cell_type": "code",
   "execution_count": 84,
   "metadata": {},
   "outputs": [
    {
     "data": {
      "text/plain": [
       "KNeighborsClassifier(n_neighbors=4)"
      ]
     },
     "execution_count": 84,
     "metadata": {},
     "output_type": "execute_result"
    }
   ],
   "source": [
    "k = 4\n",
    "#Train Model and Predict  \n",
    "neigh = KNeighborsClassifier(n_neighbors = k).fit(X_train,y_train)\n",
    "neigh"
   ]
  },
  {
   "cell_type": "code",
   "execution_count": 85,
   "metadata": {},
   "outputs": [
    {
     "data": {
      "text/plain": [
       "array([0, 0, 0, 1, 0], dtype=int64)"
      ]
     },
     "execution_count": 85,
     "metadata": {},
     "output_type": "execute_result"
    }
   ],
   "source": [
    "yhat = neigh.predict(X_test)\n",
    "yhat[0:5]"
   ]
  },
  {
   "cell_type": "code",
   "execution_count": 86,
   "metadata": {},
   "outputs": [
    {
     "name": "stdout",
     "output_type": "stream",
     "text": [
      "Train set Accuracy:  0.9602053915275995\n",
      "Test set Accuracy:  0.9506726457399103\n"
     ]
    }
   ],
   "source": [
    "from sklearn import metrics\n",
    "print(\"Train set Accuracy: \", metrics.accuracy_score(y_train, neigh.predict(X_train)))\n",
    "print(\"Test set Accuracy: \", metrics.accuracy_score(y_test, yhat))"
   ]
  },
  {
   "cell_type": "code",
   "execution_count": 87,
   "metadata": {},
   "outputs": [
    {
     "data": {
      "text/plain": [
       "array([0.93721973, 0.94020927, 0.95067265, 0.95067265, 0.95665172,\n",
       "       0.95515695, 0.95665172, 0.95964126, 0.95964126, 0.96263079])"
      ]
     },
     "execution_count": 87,
     "metadata": {},
     "output_type": "execute_result"
    }
   ],
   "source": [
    "Ks = 11\n",
    "mean_acc = np.zeros((Ks-1))\n",
    "std_acc = np.zeros((Ks-1))\n",
    "ConfustionMx = [];\n",
    "for n in range(1,Ks):\n",
    "    \n",
    "    #Train Model and Predict  \n",
    "    neigh = KNeighborsClassifier(n_neighbors = n).fit(X_train,y_train)\n",
    "    yhat=neigh.predict(X_test)\n",
    "    mean_acc[n-1] = metrics.accuracy_score(y_test, yhat)\n",
    "\n",
    "    \n",
    "    std_acc[n-1]=np.std(yhat==y_test)/np.sqrt(yhat.shape[0])\n",
    "\n",
    "mean_acc"
   ]
  },
  {
   "cell_type": "code",
   "execution_count": 88,
   "metadata": {},
   "outputs": [
    {
     "data": {
      "image/png": "[encoded data removed]",
      "text/plain": [
       "<Figure size 432x288 with 1 Axes>"
      ]
     },
     "metadata": {
      "needs_background": "light"
     },
     "output_type": "display_data"
    }
   ],
   "source": [
    "plt.plot(range(1,Ks),mean_acc,'g')\n",
    "plt.fill_between(range(1,Ks),mean_acc - 1 * std_acc,mean_acc + 1 * std_acc, alpha=0.10)\n",
    "plt.legend(('Accuracy ', '+/- 3xstd'))\n",
    "plt.ylabel('Accuracy ')\n",
    "plt.xlabel('Number of Nabors (K)')\n",
    "plt.tight_layout()\n",
    "plt.show()"
   ]
  },
  {
   "cell_type": "code",
   "execution_count": 90,
   "metadata": {},
   "outputs": [
    {
     "name": "stdout",
     "output_type": "stream",
     "text": [
      "The best accuracy was  0.9626307922272048 with k= 10\n"
     ]
    }
   ],
   "source": [
    "print( \"The best accuracy was \", mean_acc.max(), \"with k=\", mean_acc.argmax()+1) "
   ]
  },
  {
   "cell_type": "code",
   "execution_count": 93,
   "metadata": {},
   "outputs": [
    {
     "name": "stdout",
     "output_type": "stream",
     "text": [
      "The accuracy was  0.9626307922272048 with k= 10\n"
     ]
    }
   ],
   "source": [
    "neigh7 = KNeighborsClassifier(n_neighbors = 10).fit(X_train,y_train)\n",
    "yhat=neigh7.predict(X_test)\n",
    "mean_acc7 = metrics.accuracy_score(y_test, yhat)\n",
    "print( \"The accuracy was \", mean_acc7, \"with k= 10\") "
   ]
  },
  {
   "cell_type": "code",
   "execution_count": 94,
   "metadata": {},
   "outputs": [
    {
     "name": "stdout",
     "output_type": "stream",
     "text": [
      "Train set Accuracy:  0.9492939666238768\n",
      "Test set Accuracy:  0.9626307922272048\n"
     ]
    }
   ],
   "source": [
    "print(\"Train set Accuracy: \", metrics.accuracy_score(y_train, neigh.predict(X_train)))\n",
    "print(\"Test set Accuracy: \", metrics.accuracy_score(y_test, yhat))"
   ]
  },
  {
   "cell_type": "code",
   "execution_count": null,
   "metadata": {},
   "outputs": [],
   "source": []
  }
 ],
 "metadata": {
  "kernelspec": {
   "display_name": "Python 3",
   "language": "python",
   "name": "python3"
  },
  "language_info": {
   "codemirror_mode": {
    "name": "ipython",
    "version": 3
   },
   "file_extension": ".py",
   "mimetype": "text/x-python",
   "name": "python",
   "nbconvert_exporter": "python",
   "pygments_lexer": "ipython3",
   "version": "3.8.5"
  }
 },
 "nbformat": 4,
 "nbformat_minor": 4
}
